{
 "cells": [
  {
   "cell_type": "markdown",
   "metadata": {},
   "source": [
    "# Задание 1"
   ]
  },
  {
   "cell_type": "code",
   "execution_count": 22,
   "metadata": {},
   "outputs": [
    {
     "name": "stdout",
     "output_type": "stream",
     "text": [
      "Фраза 1 длиннее фразы 2\n"
     ]
    }
   ],
   "source": [
    "phrase_1 = 'Насколько проще было бы писать программы, если бы не заказчики'\n",
    "phrase_2 = '640Кб должно хватить для любых задач. Билл Гейтс (по легенде)'\n",
    "if phrase_1 > phrase_2:\n",
    "    print ('Фраза 1 длиннее фразы 2')"
   ]
  },
  {
   "cell_type": "code",
   "execution_count": 23,
   "metadata": {},
   "outputs": [
    {
     "name": "stdout",
     "output_type": "stream",
     "text": [
      "Фраза 2 длиннее фразы 1\n"
     ]
    }
   ],
   "source": [
    "phrase_1 = '640Кб должно хватить для любых задач. Билл Гейтс (по легенде)'\n",
    "phrase_2 = 'Насколько проще было бы писать программы, если бы не заказчики'\n",
    "if phrase_1 < phrase_2:\n",
    "    print ('Фраза 2 длиннее фразы 1')"
   ]
  },
  {
   "cell_type": "code",
   "execution_count": 24,
   "metadata": {},
   "outputs": [
    {
     "name": "stdout",
     "output_type": "stream",
     "text": [
      "Фразы равной длины\n"
     ]
    }
   ],
   "source": [
    "phrase_1 = 'Насколько проще было бы писать программы, если бы не заказчики'\n",
    "phrase_2 = 'Насколько проще было бы писать программы, если бы не заказчики'\n",
    "if phrase_1 == phrase_2:\n",
    "    print ('Фразы равной длины')"
   ]
  },
  {
   "cell_type": "markdown",
   "metadata": {},
   "source": [
    "# Задание 2"
   ]
  },
  {
   "cell_type": "code",
   "execution_count": 26,
   "metadata": {},
   "outputs": [
    {
     "name": "stdout",
     "output_type": "stream",
     "text": [
      "Високосный год\n"
     ]
    }
   ],
   "source": [
    "year = 2020\n",
    "if (year % 4 == 0) and (year % 100 != 0) or (year % 400 == 0):\n",
    "    print ('Високосный год')\n",
    "else:\n",
    "    print ('Обычный год')"
   ]
  },
  {
   "cell_type": "code",
   "execution_count": 28,
   "metadata": {},
   "outputs": [
    {
     "name": "stdout",
     "output_type": "stream",
     "text": [
      "Обычный год\n"
     ]
    }
   ],
   "source": [
    "year = 2019\n",
    "if (year % 4 == 0) and (year % 100 != 0) or (year % 400 == 0):\n",
    "    print ('Високосный год')\n",
    "else:\n",
    "    print ('Обычный год')"
   ]
  },
  {
   "cell_type": "markdown",
   "metadata": {},
   "source": [
    "# Задание 3"
   ]
  },
  {
   "cell_type": "code",
   "execution_count": 33,
   "metadata": {},
   "outputs": [
    {
     "name": "stdout",
     "output_type": "stream",
     "text": [
      "Введите день рождения:29\n",
      "Введите месяц рождения:октябрь\n",
      "Знак зодиака:Скорпион\n"
     ]
    }
   ],
   "source": [
    "date = int(input(\"Введите день рождения:\"))\n",
    "month = input(\"Введите месяц рождения:\")\n",
    "if (date >= 21 and date <= 31 and month == \"март\") or ( month == \"апрель\" and date >= 1 and date <= 19):\n",
    "    print (\"Знак зодиака:Овен\")\n",
    "elif (date >= 20 and date <= 30 and month == \"аперель\") or ( month == \"май\" and date >= 1 and date <= 20):\n",
    "    print (\"Знак зодиака:Телец\")\n",
    "elif (date >= 21 and date <= 31 and month == \"май\") or ( month == \"июнь\" and date >= 1 and date <= 21):\n",
    "    print (\"Знак зодиака:Близнецы\")\n",
    "elif (date >= 22 and date <= 30 and month == \"июнь\") or ( month == \"июль\" and date >= 1 and date <= 22):\n",
    "    print (\"Знак зодиака:Рак\")\n",
    "elif (date >= 23 and date <= 31 and month == \"июль\") or ( month == \"август\" and date >= 1 and date <= 22):\n",
    "    print (\"Знак зодиака:Лев\")\n",
    "elif (date >= 23 and date <= 31 and month == \"август\") or ( month == \"сентябрь\" and date >= 1 and date <= 22):\n",
    "    print (\"Знак зодиака:Дева\")\n",
    "elif (date >= 23 and date <= 30 and month == \"сентябрь\") or ( month == \"октябрь\" and date >= 1 and date <= 23):\n",
    "    print (\"Знак зодиака:Весы\")\n",
    "elif (date >= 24 and date <= 31 and month == \"октябрь\") or ( month == \"ноябрь\" and date >= 1 and date <= 22):\n",
    "    print (\"Знак зодиака:Скорпион\")\n",
    "elif (date >= 23 and date <= 30 and month == \"ноябрь\") or ( month == \"декабрь\" and date >= 1 and date <= 21):\n",
    "    print (\"Знак зодиака:Стрелец\")\n",
    "elif (date >= 22 and date <= 31 and month == \"декабрь\") or ( month == \"январь\" and date >= 1 and date <= 20):\n",
    "    print (\"Знак зодиака:Козерог\")\n",
    "elif (date >= 21 and date <= 31 and month == \"январь\") or ( month == \"февраль\" and date >= 1 and date <= 18):\n",
    "    print (\"Знак зодиака:Водолей\")\n",
    "elif (date >= 19 and date <= 29 and month == \"февраль\") or ( month == \"март\" and date >= 1 and date <= 20):\n",
    "    print (\"Знак зодиака:Рыбы\")"
   ]
  },
  {
   "cell_type": "markdown",
   "metadata": {},
   "source": [
    "# Задание 4"
   ]
  },
  {
   "cell_type": "code",
   "execution_count": 41,
   "metadata": {},
   "outputs": [
    {
     "name": "stdout",
     "output_type": "stream",
     "text": [
      "Упаковка для лыж\n"
     ]
    }
   ],
   "source": [
    "width = 10\n",
    "length = 205\n",
    "height = 5\n",
    "if (width < 15 and length < 15 and height < 15):\n",
    "    print (\"Коробка №1\")\n",
    "elif (width > 15 or length > 15 or height > 15) and (width < 50 and length < 50 and height < 50):\n",
    "    print (\"Коробка №2\")\n",
    "elif (length > 200):\n",
    "    print (\"Упаковка для лыж\")\n",
    "else:\n",
    "    print (\"Стандартная коробка №3\")"
   ]
  }
 ],
 "metadata": {
  "kernelspec": {
   "display_name": "Python 3",
   "language": "python",
   "name": "python3"
  },
  "language_info": {
   "codemirror_mode": {
    "name": "ipython",
    "version": 3
   },
   "file_extension": ".py",
   "mimetype": "text/x-python",
   "name": "python",
   "nbconvert_exporter": "python",
   "pygments_lexer": "ipython3",
   "version": "3.8.5"
  }
 },
 "nbformat": 4,
 "nbformat_minor": 4
}
