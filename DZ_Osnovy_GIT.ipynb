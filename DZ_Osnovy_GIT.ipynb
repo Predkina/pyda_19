{
 "cells": [
  {
   "cell_type": "markdown",
   "metadata": {},
   "source": [
    "# Домашнее задание к лекции \"Настройка среды и работа с GIT\"\n",
    "\n",
    "## Задание 1\n",
    "https://prnt.sc/108kw9b\n",
    "\n",
    "## Задание 2 \n",
    "### Раздел \"Основы\" https://prnt.sc/108mh70\n",
    "https://prnt.sc/108latg\n",
    "https://prnt.sc/108lo0n\n",
    "https://prnt.sc/108lu1w\n",
    "https://prnt.sc/108m07c\n",
    "### Раздел \"Удаленные репозитории\" https://prnt.sc/108ocp0\n",
    "https://prnt.sc/108mojb\n",
    "https://prnt.sc/108mszv\n",
    "https://prnt.sc/108mwfh\n",
    "https://prnt.sc/108myrf\n",
    "https://prnt.sc/108o8v2\n",
    "https://prnt.sc/108obmj\n",
    "\n",
    "\n",
    "\n"
   ]
  }
 ],
 "metadata": {
  "kernelspec": {
   "display_name": "Python 3",
   "language": "python",
   "name": "python3"
  },
  "language_info": {
   "codemirror_mode": {
    "name": "ipython",
    "version": 3
   },
   "file_extension": ".py",
   "mimetype": "text/x-python",
   "name": "python",
   "nbconvert_exporter": "python",
   "pygments_lexer": "ipython3",
   "version": "3.8.5"
  }
 },
 "nbformat": 4,
 "nbformat_minor": 4
}
